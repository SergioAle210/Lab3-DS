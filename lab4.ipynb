{
 "cells": [
  {
   "cell_type": "markdown",
   "id": "1ae4cdd6",
   "metadata": {},
   "source": [
    "# Integrantes\n",
    "\n",
    "- Sergio Orellana 221122\n",
    "- Andre Marroquin 22266"
   ]
  }
 ],
 "metadata": {
  "language_info": {
   "name": "python"
  }
 },
 "nbformat": 4,
 "nbformat_minor": 5
}
